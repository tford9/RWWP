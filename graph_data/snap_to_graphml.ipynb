{
 "cells": [
  {
   "cell_type": "code",
   "execution_count": 21,
   "metadata": {},
   "outputs": [],
   "source": [
    "import networkx as nx, pandas as pd, os"
   ]
  },
  {
   "cell_type": "code",
   "execution_count": 28,
   "metadata": {},
   "outputs": [],
   "source": [
    "def snap_edgelist_convert(filename):\n",
    "    filename = 'web-NotreDame.txt'\n",
    "    data = pd.read_csv(str('raw/'+ filename), comment='#', sep='\\t', names=['source', 'target'])\n",
    "    G = nx.from_pandas_edgelist(data, create_using=nx.DiGraph)\n",
    "    nx.write_graphml(G, str('processed/' + os.path.splitext(os.path.basename(filename))[0] + '.graphml')) "
   ]
  }
 ],
 "metadata": {
  "kernelspec": {
   "display_name": "Python 3",
   "language": "python",
   "name": "python3"
  },
  "language_info": {
   "codemirror_mode": {
    "name": "ipython",
    "version": 3
   },
   "file_extension": ".py",
   "mimetype": "text/x-python",
   "name": "python",
   "nbconvert_exporter": "python",
   "pygments_lexer": "ipython3",
   "version": "3.7.0"
  }
 },
 "nbformat": 4,
 "nbformat_minor": 2
}
